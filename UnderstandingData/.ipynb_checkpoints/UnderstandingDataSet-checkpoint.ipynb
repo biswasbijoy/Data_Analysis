{
 "cells": [
  {
   "cell_type": "code",
   "execution_count": 1,
   "id": "f169a28b-ff73-4a52-8d37-2f953d1a2a83",
   "metadata": {},
   "outputs": [],
   "source": [
    "import pandas as pd"
   ]
  },
  {
   "cell_type": "markdown",
   "id": "ff3147b0-013b-4cc6-a838-337384c0cbd6",
   "metadata": {},
   "source": [
    "# Read Dataset"
   ]
  },
  {
   "cell_type": "code",
   "execution_count": 16,
   "id": "b79801b8-95d1-41dc-94f3-259037555fda",
   "metadata": {},
   "outputs": [],
   "source": [
    "df = pd.read_csv(\"club.csv\")"
   ]
  },
  {
   "cell_type": "markdown",
   "id": "916c7cc9-3d43-4a33-801c-0c3c906927e0",
   "metadata": {},
   "source": [
    "# How big is the Dataset is"
   ]
  },
  {
   "cell_type": "code",
   "execution_count": 17,
   "id": "60f2933c-2907-4f1f-ba25-05f5fde0d120",
   "metadata": {},
   "outputs": [
    {
     "data": {
      "text/plain": [
       "(100, 7)"
      ]
     },
     "execution_count": 17,
     "metadata": {},
     "output_type": "execute_result"
    }
   ],
   "source": [
    "df.shape"
   ]
  },
  {
   "cell_type": "markdown",
   "id": "35d8338b-6fc7-4d04-a2b6-4f982e6cc7a4",
   "metadata": {},
   "source": [
    "# What is the Data type of cols"
   ]
  },
  {
   "cell_type": "code",
   "execution_count": 18,
   "id": "23d0611c-8aa0-4c0b-9e6f-588d3f6379d6",
   "metadata": {},
   "outputs": [
    {
     "name": "stdout",
     "output_type": "stream",
     "text": [
      "<class 'pandas.core.frame.DataFrame'>\n",
      "RangeIndex: 100 entries, 0 to 99\n",
      "Data columns (total 7 columns):\n",
      " #   Column                                          Non-Null Count  Dtype  \n",
      "---  ------                                          --------------  -----  \n",
      " 0   Club Name                                       100 non-null    object \n",
      " 1   Competition Name                                100 non-null    object \n",
      " 2   Squad Size                                      100 non-null    int64  \n",
      " 3   Average Age Of Players                          100 non-null    float64\n",
      " 4   Market Value Of Club In Millions(£)             100 non-null    float64\n",
      " 5   Average Market Value Of Players In Millions(£)  100 non-null    float64\n",
      " 6   Market Value Of Top 18 Players In Millions(£)   100 non-null    float64\n",
      "dtypes: float64(4), int64(1), object(2)\n",
      "memory usage: 5.6+ KB\n"
     ]
    }
   ],
   "source": [
    "df.info()"
   ]
  },
  {
   "cell_type": "markdown",
   "id": "b4cc15c7-f7a8-45c4-8766-976ed7a6f935",
   "metadata": {},
   "source": [
    "# How does the Data look like"
   ]
  },
  {
   "cell_type": "code",
   "execution_count": 19,
   "id": "77c5d9ee-5c5f-4195-a90d-6d494f49cb50",
   "metadata": {},
   "outputs": [
    {
     "data": {
      "text/html": [
       "<div>\n",
       "<style scoped>\n",
       "    .dataframe tbody tr th:only-of-type {\n",
       "        vertical-align: middle;\n",
       "    }\n",
       "\n",
       "    .dataframe tbody tr th {\n",
       "        vertical-align: top;\n",
       "    }\n",
       "\n",
       "    .dataframe thead th {\n",
       "        text-align: right;\n",
       "    }\n",
       "</style>\n",
       "<table border=\"1\" class=\"dataframe\">\n",
       "  <thead>\n",
       "    <tr style=\"text-align: right;\">\n",
       "      <th></th>\n",
       "      <th>Club Name</th>\n",
       "      <th>Competition Name</th>\n",
       "      <th>Squad Size</th>\n",
       "      <th>Average Age Of Players</th>\n",
       "      <th>Market Value Of Club In Millions(£)</th>\n",
       "      <th>Average Market Value Of Players In Millions(£)</th>\n",
       "      <th>Market Value Of Top 18 Players In Millions(£)</th>\n",
       "    </tr>\n",
       "  </thead>\n",
       "  <tbody>\n",
       "    <tr>\n",
       "      <th>26</th>\n",
       "      <td>AS Monaco</td>\n",
       "      <td>Ligue 1</td>\n",
       "      <td>29</td>\n",
       "      <td>24.4</td>\n",
       "      <td>331.47</td>\n",
       "      <td>11.43</td>\n",
       "      <td>291.60</td>\n",
       "    </tr>\n",
       "    <tr>\n",
       "      <th>3</th>\n",
       "      <td>Chelsea FC</td>\n",
       "      <td>Premier League</td>\n",
       "      <td>27</td>\n",
       "      <td>26.9</td>\n",
       "      <td>802.35</td>\n",
       "      <td>29.72</td>\n",
       "      <td>737.10</td>\n",
       "    </tr>\n",
       "    <tr>\n",
       "      <th>70</th>\n",
       "      <td>Celta de Vigo</td>\n",
       "      <td>LaLiga</td>\n",
       "      <td>22</td>\n",
       "      <td>27.8</td>\n",
       "      <td>127.17</td>\n",
       "      <td>5.78</td>\n",
       "      <td>123.30</td>\n",
       "    </tr>\n",
       "    <tr>\n",
       "      <th>31</th>\n",
       "      <td>SS Lazio</td>\n",
       "      <td>Serie A</td>\n",
       "      <td>33</td>\n",
       "      <td>27.6</td>\n",
       "      <td>280.17</td>\n",
       "      <td>8.49</td>\n",
       "      <td>257.67</td>\n",
       "    </tr>\n",
       "    <tr>\n",
       "      <th>99</th>\n",
       "      <td>Genoa CFC</td>\n",
       "      <td>Serie A</td>\n",
       "      <td>34</td>\n",
       "      <td>27.6</td>\n",
       "      <td>86.94</td>\n",
       "      <td>2.56</td>\n",
       "      <td>72.27</td>\n",
       "    </tr>\n",
       "    <tr>\n",
       "      <th>65</th>\n",
       "      <td>Cagliari Calcio</td>\n",
       "      <td>Serie A</td>\n",
       "      <td>28</td>\n",
       "      <td>27.4</td>\n",
       "      <td>132.46</td>\n",
       "      <td>4.73</td>\n",
       "      <td>122.22</td>\n",
       "    </tr>\n",
       "    <tr>\n",
       "      <th>85</th>\n",
       "      <td>Club Atlético River Plate</td>\n",
       "      <td>Liga Profesional</td>\n",
       "      <td>29</td>\n",
       "      <td>27.9</td>\n",
       "      <td>100.04</td>\n",
       "      <td>3.45</td>\n",
       "      <td>93.17</td>\n",
       "    </tr>\n",
       "    <tr>\n",
       "      <th>79</th>\n",
       "      <td>UC Sampdoria</td>\n",
       "      <td>Serie A</td>\n",
       "      <td>27</td>\n",
       "      <td>27.3</td>\n",
       "      <td>108.72</td>\n",
       "      <td>4.03</td>\n",
       "      <td>96.66</td>\n",
       "    </tr>\n",
       "    <tr>\n",
       "      <th>24</th>\n",
       "      <td>Wolverhampton Wanderers</td>\n",
       "      <td>Premier League</td>\n",
       "      <td>24</td>\n",
       "      <td>26.4</td>\n",
       "      <td>345.69</td>\n",
       "      <td>14.40</td>\n",
       "      <td>332.37</td>\n",
       "    </tr>\n",
       "    <tr>\n",
       "      <th>86</th>\n",
       "      <td>GNK Dinamo Zagreb</td>\n",
       "      <td>1.HNL</td>\n",
       "      <td>30</td>\n",
       "      <td>26.1</td>\n",
       "      <td>98.82</td>\n",
       "      <td>3.29</td>\n",
       "      <td>89.46</td>\n",
       "    </tr>\n",
       "  </tbody>\n",
       "</table>\n",
       "</div>"
      ],
      "text/plain": [
       "                    Club Name  Competition Name  Squad Size  \\\n",
       "26                  AS Monaco           Ligue 1          29   \n",
       "3                  Chelsea FC    Premier League          27   \n",
       "70              Celta de Vigo            LaLiga          22   \n",
       "31                   SS Lazio           Serie A          33   \n",
       "99                  Genoa CFC           Serie A          34   \n",
       "65            Cagliari Calcio           Serie A          28   \n",
       "85  Club Atlético River Plate  Liga Profesional          29   \n",
       "79               UC Sampdoria           Serie A          27   \n",
       "24    Wolverhampton Wanderers    Premier League          24   \n",
       "86          GNK Dinamo Zagreb             1.HNL          30   \n",
       "\n",
       "    Average Age Of Players  Market Value Of Club In Millions(£)  \\\n",
       "26                    24.4                               331.47   \n",
       "3                     26.9                               802.35   \n",
       "70                    27.8                               127.17   \n",
       "31                    27.6                               280.17   \n",
       "99                    27.6                                86.94   \n",
       "65                    27.4                               132.46   \n",
       "85                    27.9                               100.04   \n",
       "79                    27.3                               108.72   \n",
       "24                    26.4                               345.69   \n",
       "86                    26.1                                98.82   \n",
       "\n",
       "    Average Market Value Of Players In Millions(£)  \\\n",
       "26                                           11.43   \n",
       "3                                            29.72   \n",
       "70                                            5.78   \n",
       "31                                            8.49   \n",
       "99                                            2.56   \n",
       "65                                            4.73   \n",
       "85                                            3.45   \n",
       "79                                            4.03   \n",
       "24                                           14.40   \n",
       "86                                            3.29   \n",
       "\n",
       "    Market Value Of Top 18 Players In Millions(£)  \n",
       "26                                         291.60  \n",
       "3                                          737.10  \n",
       "70                                         123.30  \n",
       "31                                         257.67  \n",
       "99                                          72.27  \n",
       "65                                         122.22  \n",
       "85                                          93.17  \n",
       "79                                          96.66  \n",
       "24                                         332.37  \n",
       "86                                          89.46  "
      ]
     },
     "execution_count": 19,
     "metadata": {},
     "output_type": "execute_result"
    }
   ],
   "source": [
    "df.sample(10)"
   ]
  },
  {
   "cell_type": "markdown",
   "id": "484ca64d-078d-4835-a130-3bf165b91f60",
   "metadata": {},
   "source": [
    "# How does the Data look Mathematically"
   ]
  },
  {
   "cell_type": "code",
   "execution_count": 20,
   "id": "6b953366-7df0-4258-b1e3-e77905e278d0",
   "metadata": {},
   "outputs": [
    {
     "data": {
      "text/html": [
       "<div>\n",
       "<style scoped>\n",
       "    .dataframe tbody tr th:only-of-type {\n",
       "        vertical-align: middle;\n",
       "    }\n",
       "\n",
       "    .dataframe tbody tr th {\n",
       "        vertical-align: top;\n",
       "    }\n",
       "\n",
       "    .dataframe thead th {\n",
       "        text-align: right;\n",
       "    }\n",
       "</style>\n",
       "<table border=\"1\" class=\"dataframe\">\n",
       "  <thead>\n",
       "    <tr style=\"text-align: right;\">\n",
       "      <th></th>\n",
       "      <th>Squad Size</th>\n",
       "      <th>Average Age Of Players</th>\n",
       "      <th>Market Value Of Club In Millions(£)</th>\n",
       "      <th>Average Market Value Of Players In Millions(£)</th>\n",
       "      <th>Market Value Of Top 18 Players In Millions(£)</th>\n",
       "    </tr>\n",
       "  </thead>\n",
       "  <tbody>\n",
       "    <tr>\n",
       "      <th>count</th>\n",
       "      <td>100.000000</td>\n",
       "      <td>100.000000</td>\n",
       "      <td>100.000000</td>\n",
       "      <td>100.000000</td>\n",
       "      <td>100.000000</td>\n",
       "    </tr>\n",
       "    <tr>\n",
       "      <th>mean</th>\n",
       "      <td>27.740000</td>\n",
       "      <td>26.368000</td>\n",
       "      <td>263.793800</td>\n",
       "      <td>9.682600</td>\n",
       "      <td>243.451700</td>\n",
       "    </tr>\n",
       "    <tr>\n",
       "      <th>std</th>\n",
       "      <td>2.812742</td>\n",
       "      <td>1.417701</td>\n",
       "      <td>205.457212</td>\n",
       "      <td>7.747373</td>\n",
       "      <td>190.344411</td>\n",
       "    </tr>\n",
       "    <tr>\n",
       "      <th>min</th>\n",
       "      <td>22.000000</td>\n",
       "      <td>23.000000</td>\n",
       "      <td>86.940000</td>\n",
       "      <td>2.560000</td>\n",
       "      <td>72.270000</td>\n",
       "    </tr>\n",
       "    <tr>\n",
       "      <th>25%</th>\n",
       "      <td>26.000000</td>\n",
       "      <td>25.575000</td>\n",
       "      <td>114.147500</td>\n",
       "      <td>4.127500</td>\n",
       "      <td>105.795000</td>\n",
       "    </tr>\n",
       "    <tr>\n",
       "      <th>50%</th>\n",
       "      <td>27.000000</td>\n",
       "      <td>26.200000</td>\n",
       "      <td>182.060000</td>\n",
       "      <td>7.045000</td>\n",
       "      <td>170.550000</td>\n",
       "    </tr>\n",
       "    <tr>\n",
       "      <th>75%</th>\n",
       "      <td>29.000000</td>\n",
       "      <td>27.500000</td>\n",
       "      <td>345.622500</td>\n",
       "      <td>12.980000</td>\n",
       "      <td>321.412500</td>\n",
       "    </tr>\n",
       "    <tr>\n",
       "      <th>max</th>\n",
       "      <td>36.000000</td>\n",
       "      <td>30.100000</td>\n",
       "      <td>970.020000</td>\n",
       "      <td>40.420000</td>\n",
       "      <td>920.700000</td>\n",
       "    </tr>\n",
       "  </tbody>\n",
       "</table>\n",
       "</div>"
      ],
      "text/plain": [
       "       Squad Size  Average Age Of Players  \\\n",
       "count  100.000000              100.000000   \n",
       "mean    27.740000               26.368000   \n",
       "std      2.812742                1.417701   \n",
       "min     22.000000               23.000000   \n",
       "25%     26.000000               25.575000   \n",
       "50%     27.000000               26.200000   \n",
       "75%     29.000000               27.500000   \n",
       "max     36.000000               30.100000   \n",
       "\n",
       "       Market Value Of Club In Millions(£)  \\\n",
       "count                           100.000000   \n",
       "mean                            263.793800   \n",
       "std                             205.457212   \n",
       "min                              86.940000   \n",
       "25%                             114.147500   \n",
       "50%                             182.060000   \n",
       "75%                             345.622500   \n",
       "max                             970.020000   \n",
       "\n",
       "       Average Market Value Of Players In Millions(£)  \\\n",
       "count                                      100.000000   \n",
       "mean                                         9.682600   \n",
       "std                                          7.747373   \n",
       "min                                          2.560000   \n",
       "25%                                          4.127500   \n",
       "50%                                          7.045000   \n",
       "75%                                         12.980000   \n",
       "max                                         40.420000   \n",
       "\n",
       "       Market Value Of Top 18 Players In Millions(£)  \n",
       "count                                     100.000000  \n",
       "mean                                      243.451700  \n",
       "std                                       190.344411  \n",
       "min                                        72.270000  \n",
       "25%                                       105.795000  \n",
       "50%                                       170.550000  \n",
       "75%                                       321.412500  \n",
       "max                                       920.700000  "
      ]
     },
     "execution_count": 20,
     "metadata": {},
     "output_type": "execute_result"
    }
   ],
   "source": [
    "df.describe()"
   ]
  },
  {
   "cell_type": "markdown",
   "id": "173f86f4-a592-4646-b07b-45e6ee8476dc",
   "metadata": {},
   "source": [
    "# Are there missing values?"
   ]
  },
  {
   "cell_type": "code",
   "execution_count": 21,
   "id": "26d09b4f-55da-4a8e-b65c-866215240538",
   "metadata": {},
   "outputs": [
    {
     "data": {
      "text/plain": [
       "Club Name                                         0\n",
       "Competition Name                                  0\n",
       "Squad Size                                        0\n",
       "Average Age Of Players                            0\n",
       "Market Value Of Club In Millions(£)               0\n",
       "Average Market Value Of Players In Millions(£)    0\n",
       "Market Value Of Top 18 Players In Millions(£)     0\n",
       "dtype: int64"
      ]
     },
     "execution_count": 21,
     "metadata": {},
     "output_type": "execute_result"
    }
   ],
   "source": [
    "df.isnull().sum()"
   ]
  },
  {
   "cell_type": "markdown",
   "id": "e34a0711-06d5-4e99-885e-1bde57f864e5",
   "metadata": {
    "tags": []
   },
   "source": [
    "# Are there Duplicates values?"
   ]
  },
  {
   "cell_type": "code",
   "execution_count": 22,
   "id": "95eb24c2-9fea-4022-ab4d-5da4e1b8a1e2",
   "metadata": {},
   "outputs": [
    {
     "data": {
      "text/plain": [
       "0"
      ]
     },
     "execution_count": 22,
     "metadata": {},
     "output_type": "execute_result"
    }
   ],
   "source": [
    "df.duplicated().sum()"
   ]
  },
  {
   "cell_type": "markdown",
   "id": "5327feeb-b98e-42a2-96a4-9300cad213fd",
   "metadata": {},
   "source": [
    "# How is the Correlation between Cols?"
   ]
  },
  {
   "cell_type": "code",
   "execution_count": 23,
   "id": "32eab43b-4f02-4daa-8a79-e8376da6b897",
   "metadata": {},
   "outputs": [
    {
     "data": {
      "text/plain": [
       "Squad Size                                       -0.222474\n",
       "Average Age Of Players                            0.146799\n",
       "Market Value Of Club In Millions(£)               0.983290\n",
       "Average Market Value Of Players In Millions(£)    1.000000\n",
       "Market Value Of Top 18 Players In Millions(£)     0.987126\n",
       "Name: Average Market Value Of Players In Millions(£), dtype: float64"
      ]
     },
     "execution_count": 23,
     "metadata": {},
     "output_type": "execute_result"
    }
   ],
   "source": [
    "df.corr()['Average Market Value Of Players In Millions(£)']"
   ]
  }
 ],
 "metadata": {
  "kernelspec": {
   "display_name": "Python 3 (ipykernel)",
   "language": "python",
   "name": "python3"
  },
  "language_info": {
   "codemirror_mode": {
    "name": "ipython",
    "version": 3
   },
   "file_extension": ".py",
   "mimetype": "text/x-python",
   "name": "python",
   "nbconvert_exporter": "python",
   "pygments_lexer": "ipython3",
   "version": "3.10.0"
  }
 },
 "nbformat": 4,
 "nbformat_minor": 5
}
