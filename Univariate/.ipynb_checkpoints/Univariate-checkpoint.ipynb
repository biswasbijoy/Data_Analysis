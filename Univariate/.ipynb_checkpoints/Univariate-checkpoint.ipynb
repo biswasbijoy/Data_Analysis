{
 "cells": [
  {
   "cell_type": "code",
   "execution_count": 34,
   "id": "81542125-6b77-46db-8faf-80e566f06006",
   "metadata": {},
   "outputs": [],
   "source": [
    "import pandas as pd\n",
    "import seaborn as sns\n",
    "import matplotlib.pyplot as plt"
   ]
  },
  {
   "cell_type": "code",
   "execution_count": 12,
   "id": "aab3a49d-485b-49ff-bfe0-421bc73b2748",
   "metadata": {},
   "outputs": [],
   "source": [
    "df = pd.read_csv(\"club.csv\")"
   ]
  },
  {
   "cell_type": "code",
   "execution_count": 13,
   "id": "5a869326-ad51-4080-ab9e-1859a705cda2",
   "metadata": {},
   "outputs": [
    {
     "data": {
      "text/html": [
       "<div>\n",
       "<style scoped>\n",
       "    .dataframe tbody tr th:only-of-type {\n",
       "        vertical-align: middle;\n",
       "    }\n",
       "\n",
       "    .dataframe tbody tr th {\n",
       "        vertical-align: top;\n",
       "    }\n",
       "\n",
       "    .dataframe thead th {\n",
       "        text-align: right;\n",
       "    }\n",
       "</style>\n",
       "<table border=\"1\" class=\"dataframe\">\n",
       "  <thead>\n",
       "    <tr style=\"text-align: right;\">\n",
       "      <th></th>\n",
       "      <th>Club Name</th>\n",
       "      <th>Competition Name</th>\n",
       "      <th>Squad Size</th>\n",
       "      <th>Average Age Of Players</th>\n",
       "      <th>Market Value Of Club In Millions(£)</th>\n",
       "      <th>Average Market Value Of Players In Millions(£)</th>\n",
       "      <th>Market Value Of Top 18 Players In Millions(£)</th>\n",
       "    </tr>\n",
       "  </thead>\n",
       "  <tbody>\n",
       "    <tr>\n",
       "      <th>48</th>\n",
       "      <td>Stade Rennais FC</td>\n",
       "      <td>Ligue 1</td>\n",
       "      <td>28</td>\n",
       "      <td>23.7</td>\n",
       "      <td>182.75</td>\n",
       "      <td>6.53</td>\n",
       "      <td>175.95</td>\n",
       "    </tr>\n",
       "    <tr>\n",
       "      <th>50</th>\n",
       "      <td>TSG 1899 Hoffenheim</td>\n",
       "      <td>Bundesliga</td>\n",
       "      <td>33</td>\n",
       "      <td>25.7</td>\n",
       "      <td>182.05</td>\n",
       "      <td>5.52</td>\n",
       "      <td>157.32</td>\n",
       "    </tr>\n",
       "    <tr>\n",
       "      <th>76</th>\n",
       "      <td>Spartak Moscow</td>\n",
       "      <td>Premier Liga</td>\n",
       "      <td>24</td>\n",
       "      <td>25.8</td>\n",
       "      <td>112.86</td>\n",
       "      <td>4.70</td>\n",
       "      <td>108.90</td>\n",
       "    </tr>\n",
       "    <tr>\n",
       "      <th>8</th>\n",
       "      <td>Tottenham Hotspur</td>\n",
       "      <td>Premier League</td>\n",
       "      <td>24</td>\n",
       "      <td>25.6</td>\n",
       "      <td>627.30</td>\n",
       "      <td>26.14</td>\n",
       "      <td>558.00</td>\n",
       "    </tr>\n",
       "    <tr>\n",
       "      <th>69</th>\n",
       "      <td>Sociedade Esportiva Palmeiras</td>\n",
       "      <td>Série A</td>\n",
       "      <td>31</td>\n",
       "      <td>27.2</td>\n",
       "      <td>128.88</td>\n",
       "      <td>4.16</td>\n",
       "      <td>113.36</td>\n",
       "    </tr>\n",
       "    <tr>\n",
       "      <th>28</th>\n",
       "      <td>Ajax Amsterdam</td>\n",
       "      <td>Eredivisie</td>\n",
       "      <td>25</td>\n",
       "      <td>25.7</td>\n",
       "      <td>304.65</td>\n",
       "      <td>12.19</td>\n",
       "      <td>282.60</td>\n",
       "    </tr>\n",
       "    <tr>\n",
       "      <th>79</th>\n",
       "      <td>UC Sampdoria</td>\n",
       "      <td>Serie A</td>\n",
       "      <td>27</td>\n",
       "      <td>27.3</td>\n",
       "      <td>108.72</td>\n",
       "      <td>4.03</td>\n",
       "      <td>96.66</td>\n",
       "    </tr>\n",
       "    <tr>\n",
       "      <th>14</th>\n",
       "      <td>Inter Milan</td>\n",
       "      <td>Serie A</td>\n",
       "      <td>28</td>\n",
       "      <td>29.0</td>\n",
       "      <td>473.31</td>\n",
       "      <td>16.90</td>\n",
       "      <td>455.85</td>\n",
       "    </tr>\n",
       "    <tr>\n",
       "      <th>54</th>\n",
       "      <td>Norwich City</td>\n",
       "      <td>Premier League</td>\n",
       "      <td>28</td>\n",
       "      <td>25.5</td>\n",
       "      <td>167.81</td>\n",
       "      <td>5.99</td>\n",
       "      <td>154.35</td>\n",
       "    </tr>\n",
       "    <tr>\n",
       "      <th>11</th>\n",
       "      <td>Juventus FC</td>\n",
       "      <td>Serie A</td>\n",
       "      <td>25</td>\n",
       "      <td>27.5</td>\n",
       "      <td>542.61</td>\n",
       "      <td>21.70</td>\n",
       "      <td>506.70</td>\n",
       "    </tr>\n",
       "  </tbody>\n",
       "</table>\n",
       "</div>"
      ],
      "text/plain": [
       "                        Club Name Competition Name  Squad Size  \\\n",
       "48               Stade Rennais FC          Ligue 1          28   \n",
       "50            TSG 1899 Hoffenheim       Bundesliga          33   \n",
       "76                 Spartak Moscow     Premier Liga          24   \n",
       "8               Tottenham Hotspur   Premier League          24   \n",
       "69  Sociedade Esportiva Palmeiras          Série A          31   \n",
       "28                 Ajax Amsterdam       Eredivisie          25   \n",
       "79                   UC Sampdoria          Serie A          27   \n",
       "14                    Inter Milan          Serie A          28   \n",
       "54                   Norwich City   Premier League          28   \n",
       "11                    Juventus FC          Serie A          25   \n",
       "\n",
       "    Average Age Of Players  Market Value Of Club In Millions(£)  \\\n",
       "48                    23.7                               182.75   \n",
       "50                    25.7                               182.05   \n",
       "76                    25.8                               112.86   \n",
       "8                     25.6                               627.30   \n",
       "69                    27.2                               128.88   \n",
       "28                    25.7                               304.65   \n",
       "79                    27.3                               108.72   \n",
       "14                    29.0                               473.31   \n",
       "54                    25.5                               167.81   \n",
       "11                    27.5                               542.61   \n",
       "\n",
       "    Average Market Value Of Players In Millions(£)  \\\n",
       "48                                            6.53   \n",
       "50                                            5.52   \n",
       "76                                            4.70   \n",
       "8                                            26.14   \n",
       "69                                            4.16   \n",
       "28                                           12.19   \n",
       "79                                            4.03   \n",
       "14                                           16.90   \n",
       "54                                            5.99   \n",
       "11                                           21.70   \n",
       "\n",
       "    Market Value Of Top 18 Players In Millions(£)  \n",
       "48                                         175.95  \n",
       "50                                         157.32  \n",
       "76                                         108.90  \n",
       "8                                          558.00  \n",
       "69                                         113.36  \n",
       "28                                         282.60  \n",
       "79                                          96.66  \n",
       "14                                         455.85  \n",
       "54                                         154.35  \n",
       "11                                         506.70  "
      ]
     },
     "execution_count": 13,
     "metadata": {},
     "output_type": "execute_result"
    }
   ],
   "source": [
    "df.sample(10)"
   ]
  },
  {
   "cell_type": "markdown",
   "id": "5a959d0c-d5a9-4a50-ba1c-f30123ba7186",
   "metadata": {},
   "source": [
    "# Catagorical Data"
   ]
  },
  {
   "cell_type": "code",
   "execution_count": 18,
   "id": "6038eaaf-7b84-45be-9bd8-210abdf6efd2",
   "metadata": {},
   "outputs": [
    {
     "name": "stderr",
     "output_type": "stream",
     "text": [
      "C:\\Users\\Bijoy\\AppData\\Local\\Programs\\Python\\Python310\\lib\\site-packages\\seaborn\\_decorators.py:36: FutureWarning: Pass the following variable as a keyword arg: x. From version 0.12, the only valid positional argument will be `data`, and passing other arguments without an explicit keyword will result in an error or misinterpretation.\n",
      "  warnings.warn(\n"
     ]
    },
    {
     "data": {
      "text/plain": [
       "<AxesSubplot:xlabel='Competition Name', ylabel='count'>"
      ]
     },
     "execution_count": 18,
     "metadata": {},
     "output_type": "execute_result"
    },
    {
     "data": {
      "image/png": "[encoded data removed]",
      "text/plain": [
       "<Figure size 432x288 with 1 Axes>"
      ]
     },
     "metadata": {
      "needs_background": "light"
     },
     "output_type": "display_data"
    }
   ],
   "source": [
    "sns.countplot(df[\"Competition Name\"])"
   ]
  },
  {
   "cell_type": "code",
   "execution_count": 29,
   "id": "cdd60a77-c819-4beb-8eb5-93ea1f024db1",
   "metadata": {},
   "outputs": [
    {
     "data": {
      "text/plain": [
       "<AxesSubplot:ylabel='Competition Name'>"
      ]
     },
     "execution_count": 29,
     "metadata": {},
     "output_type": "execute_result"
    },
    {
     "data": {
      "image/png": "[encoded data removed]",
      "text/plain": [
       "<Figure size 432x288 with 1 Axes>"
      ]
     },
     "metadata": {},
     "output_type": "display_data"
    }
   ],
   "source": [
    "df[\"Competition Name\"].value_counts().plot(kind = 'pie', autopct = '%.1f')"
   ]
  },
  {
   "cell_type": "markdown",
   "id": "bc671211-1664-4b29-829f-a3bc71302101",
   "metadata": {},
   "source": [
    "# Numerical Data"
   ]
  },
  {
   "cell_type": "code",
   "execution_count": 35,
   "id": "17065e23-ec1e-404f-b91d-34c8deded7fa",
   "metadata": {},
   "outputs": [
    {
     "data": {
      "text/plain": [
       "(array([ 3.,  9., 25., 14., 11., 23.,  3.,  9.,  2.,  1.]),\n",
       " array([22. , 23.4, 24.8, 26.2, 27.6, 29. , 30.4, 31.8, 33.2, 34.6, 36. ]),\n",
       " <BarContainer object of 10 artists>)"
      ]
     },
     "execution_count": 35,
     "metadata": {},
     "output_type": "execute_result"
    },
    {
     "data": {
      "image/png": "[encoded data removed]",
      "text/plain": [
       "<Figure size 432x288 with 1 Axes>"
      ]
     },
     "metadata": {
      "needs_background": "light"
     },
     "output_type": "display_data"
    }
   ],
   "source": [
    "# Histogram\n",
    "plt.hist(df[\"Squad Size\"], bins = 10)"
   ]
  },
  {
   "cell_type": "code",
   "execution_count": 36,
   "id": "bda4d746-f918-4a78-98f5-b92f46dd085b",
   "metadata": {},
   "outputs": [
    {
     "name": "stderr",
     "output_type": "stream",
     "text": [
      "C:\\Users\\Bijoy\\AppData\\Local\\Programs\\Python\\Python310\\lib\\site-packages\\seaborn\\distributions.py:2619: FutureWarning: `distplot` is a deprecated function and will be removed in a future version. Please adapt your code to use either `displot` (a figure-level function with similar flexibility) or `histplot` (an axes-level function for histograms).\n",
      "  warnings.warn(msg, FutureWarning)\n"
     ]
    },
    {
     "data": {
      "text/plain": [
       "<AxesSubplot:xlabel='Squad Size', ylabel='Density'>"
      ]
     },
     "execution_count": 36,
     "metadata": {},
     "output_type": "execute_result"
    },
    {
     "data": {
      "image/png": "[encoded data removed]",
      "text/plain": [
       "<Figure size 432x288 with 1 Axes>"
      ]
     },
     "metadata": {
      "needs_background": "light"
     },
     "output_type": "display_data"
    }
   ],
   "source": [
    "# distplot\n",
    "sns.distplot(df[\"Squad Size\"])"
   ]
  },
  {
   "cell_type": "code",
   "execution_count": 37,
   "id": "77b6408c-b9d1-49bd-b4aa-f479e9c45803",
   "metadata": {},
   "outputs": [
    {
     "name": "stderr",
     "output_type": "stream",
     "text": [
      "C:\\Users\\Bijoy\\AppData\\Local\\Programs\\Python\\Python310\\lib\\site-packages\\seaborn\\_decorators.py:36: FutureWarning: Pass the following variable as a keyword arg: x. From version 0.12, the only valid positional argument will be `data`, and passing other arguments without an explicit keyword will result in an error or misinterpretation.\n",
      "  warnings.warn(\n"
     ]
    },
    {
     "data": {
      "text/plain": [
       "<AxesSubplot:xlabel='Squad Size'>"
      ]
     },
     "execution_count": 37,
     "metadata": {},
     "output_type": "execute_result"
    },
    {
     "data": {
      "image/png": "[encoded data removed]",
      "text/plain": [
       "<Figure size 432x288 with 1 Axes>"
      ]
     },
     "metadata": {
      "needs_background": "light"
     },
     "output_type": "display_data"
    }
   ],
   "source": [
    "# Boxplot\n",
    "sns.boxplot(df[\"Squad Size\"])"
   ]
  },
  {
   "cell_type": "code",
   "execution_count": null,
   "id": "d683f56c-5445-449e-8f6d-9d5e8072b808",
   "metadata": {},
   "outputs": [],
   "source": []
  }
 ],
 "metadata": {
  "kernelspec": {
   "display_name": "Python 3 (ipykernel)",
   "language": "python",
   "name": "python3"
  },
  "language_info": {
   "codemirror_mode": {
    "name": "ipython",
    "version": 3
   },
   "file_extension": ".py",
   "mimetype": "text/x-python",
   "name": "python",
   "nbconvert_exporter": "python",
   "pygments_lexer": "ipython3",
   "version": "3.10.0"
  }
 },
 "nbformat": 4,
 "nbformat_minor": 5
}
